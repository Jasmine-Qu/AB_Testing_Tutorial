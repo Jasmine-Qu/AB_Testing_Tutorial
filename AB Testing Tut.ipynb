{
 "cells": [
  {
   "cell_type": "markdown",
   "metadata": {},
   "source": [
    "## 1. Intro"
   ]
  },
  {
   "cell_type": "markdown",
   "metadata": {},
   "source": [
    "A/B testing, aka. split testing, refers to an experiment technique to determine whether a new design brings improvement, according to a chosen metric.\n",
    "\n",
    "In web analytics, the idea is to challenge an existing version of a website (A) with a new one (B), by randomly splitting traffic and comparing metrics on each of the splits. Provided it is well executed, with no bias when sampling populations A and B, it gives you the best estimate of what would happen if you were to deploy version B."
   ]
  },
  {
   "cell_type": "markdown",
   "metadata": {},
   "source": [
    "<img src=\"https://miro.medium.com/max/1400/1*Vzkwzrs4DOmBBa1LymW-PQ.png\" width=\"50%\" />"
   ]
  },
  {
   "cell_type": "markdown",
   "metadata": {},
   "source": [
    "## 2. Hypothesis Testing"
   ]
  },
  {
   "cell_type": "markdown",
   "metadata": {},
   "source": [
    "Hypothesis testing: a tool to compare the distributions of 2 populations, based on samples from them."
   ]
  },
  {
   "cell_type": "markdown",
   "metadata": {},
   "source": [
    "- **Null hypothesis H₀** about the populations: In general, it is the equality hypothesis: eg. “the two populations have the same mean”.\n",
    "\n",
    "- **Alternative hypothesis H₁** negates the null hypothesis: eg. “the mean in the second population is higher than in the first”."
   ]
  },
  {
   "cell_type": "markdown",
   "metadata": {},
   "source": [
    "Two steps of test:\n",
    "1. Model H₀ as a distribution on a single real-valued random variable (called the test statistic)\n",
    "\n",
    "2. Assess how likely the samples, or more extreme ones, could have been generated under H₀. This probability is the famous p-value. The lower it is, the more confident we can be in rejecting H₀."
   ]
  },
  {
   "cell_type": "markdown",
   "metadata": {},
   "source": [
    "## 3. Z-test\n",
    "how the Z-test can be applied to testing whether the clients experiencing B spend more time on average"
   ]
  },
  {
   "cell_type": "markdown",
   "metadata": {},
   "source": [
    "<img src=\"https://miro.medium.com/max/1400/1*WMrlwFc-AwXnJybm-_C2jw.jpeg\" width=\"50%\" />"
   ]
  },
  {
   "cell_type": "markdown",
   "metadata": {},
   "source": [
    "#### The hypothesis to test are:\n",
    "    \n",
    "H₀: “the average time spent is the same for the two versions”\n",
    "    \n",
    "H₁: “the average time spent is higher for version B”"
   ]
  },
  {
   "cell_type": "markdown",
   "metadata": {},
   "source": [
    "#### The first step is to model H₀"
   ]
  },
  {
   "cell_type": "markdown",
   "metadata": {},
   "source": [
    "<img src=\"https://miro.medium.com/max/1400/1*J6xbRB-fMatqQzZKWKYjiA.jpeg\" width=\"50%\" />"
   ]
  },
  {
   "cell_type": "markdown",
   "metadata": {},
   "source": [
    "#### The second step is to see how likely our samples are under H₀"
   ]
  },
  {
   "cell_type": "markdown",
   "metadata": {},
   "source": [
    "<img src=\"https://miro.medium.com/max/1400/1*FCAkTCjZtmuADgbSNwYudA.jpeg\" width=\"50%\" />"
   ]
  },
  {
   "cell_type": "code",
   "execution_count": 7,
   "metadata": {},
   "outputs": [
    {
     "name": "stdout",
     "output_type": "stream",
     "text": [
      "Z-score: 2.2749070654279993\n",
      "p-value: 0.011455752709549046\n"
     ]
    }
   ],
   "source": [
    "import numpy as np\n",
    "from scipy.stats import norm\n",
    "\n",
    "mu_B = 62\n",
    "mu_A = 60\n",
    "\n",
    "std_B = 45\n",
    "std_A = 40\n",
    "\n",
    "n_B = 4000\n",
    "n_A = 6000\n",
    "\n",
    "Z = (mu_B - mu_A)/np.sqrt(std_B**2/n_B + std_A**2/n_A)\n",
    "pvalue = norm.sf(Z)\n",
    "\n",
    "print(\"Z-score: {0}\\np-value: {1}\".format(Z,pvalue))"
   ]
  },
  {
   "cell_type": "code",
   "execution_count": 8,
   "metadata": {
    "scrolled": true
   },
   "outputs": [
    {
     "data": {
      "image/png": "[encoded data removed]",
      "text/plain": [
       "<Figure size 432x288 with 1 Axes>"
      ]
     },
     "metadata": {
      "needs_background": "light"
     },
     "output_type": "display_data"
    }
   ],
   "source": [
    "import matplotlib.pyplot as plt\n",
    "\n",
    "z = np.arange(-3, 3, 0.1)\n",
    "plt.plot(z, norm.pdf(z))\n",
    "plt.fill_between(z[z>Z], norm.pdf(z[z>Z]))\n",
    "plt.show()"
   ]
  },
  {
   "cell_type": "markdown",
   "metadata": {},
   "source": [
    "There is a pvalue chance that a result as extreme as the one we observed could have happened under H₀. With a common go-to α criterion of 5%, we have pvalue<α and H₀ can be rejected with confidence.\n",
    "\n",
    "In cases where the sample size is not as big (< 30 per version), and the CLT approximation does not hold, one may take a look at Student’s t-test."
   ]
  },
  {
   "cell_type": "markdown",
   "metadata": {},
   "source": [
    "## 4. χ² test\n",
    "how the χ² test can be used to decide whether or not version B leads to a higher conversion rate"
   ]
  },
  {
   "cell_type": "markdown",
   "metadata": {},
   "source": [
    "<img src=\"https://miro.medium.com/max/1400/1*Qkglapw_07VFANmAt2p9qA.jpeg\" width=\"50%\" />"
   ]
  },
  {
   "cell_type": "markdown",
   "metadata": {},
   "source": [
    "#### The hypothesis to test are:\n",
    "\n",
    "H₀: “the conversion rate is the same for the two versions”\n",
    "\n",
    "H₁: “the conversion rate is higher for version B”"
   ]
  },
  {
   "cell_type": "markdown",
   "metadata": {},
   "source": [
    "#### The first step is to model H₀"
   ]
  },
  {
   "cell_type": "markdown",
   "metadata": {},
   "source": [
    "<img src=\"https://miro.medium.com/max/1400/1*9-HSLXlKnq1Oxc9kZGEAmw.jpeg\" width=\"50%\" />"
   ]
  },
  {
   "cell_type": "markdown",
   "metadata": {},
   "source": [
    "<img src=\"https://miro.medium.com/max/1400/1*8yHiymeEcYC2dAgx7ruqyg.jpeg\" width=\"50%\" />"
   ]
  },
  {
   "cell_type": "markdown",
   "metadata": {},
   "source": [
    "D represents a squared relative distance between the theoretical and the observed distributions.\n",
    "According to Pearson’s theorem, under H₀, D follows a χ² probability law with 1 degree of freedom (df). The χ² test compares distributions of multinomial outcomes but we will keep to the binary case in this example."
   ]
  },
  {
   "cell_type": "markdown",
   "metadata": {},
   "source": [
    "#### The second step is to see how likely our samples are under H₀"
   ]
  },
  {
   "cell_type": "code",
   "execution_count": 12,
   "metadata": {},
   "outputs": [
    {
     "name": "stdout",
     "output_type": "stream",
     "text": [
      "distance d: 3.590449404583807\n",
      "p-value: 0.05811252579106675\n"
     ]
    }
   ],
   "source": [
    "from scipy.stats import chi2\n",
    "import numpy as np\n",
    "\n",
    "T = np.array([102, 68, 5898, 3932])\n",
    "O = np.array([90, 80, 5910, 3920])\n",
    "\n",
    "D = np.sum(np.square(T-O)/T)\n",
    "\n",
    "pvalue = chi2.sf(D, df=1)\n",
    "\n",
    "print(\"distance d: {0}\\np-value: {1}\".format(D,pvalue))"
   ]
  },
  {
   "cell_type": "code",
   "execution_count": 13,
   "metadata": {},
   "outputs": [
    {
     "data": {
      "image/png": "[encoded data removed]",
      "text/plain": [
       "<Figure size 432x288 with 1 Axes>"
      ]
     },
     "metadata": {
      "needs_background": "light"
     },
     "output_type": "display_data"
    }
   ],
   "source": [
    "import matplotlib.pyplot as plt\n",
    "\n",
    "d = np.arange(0, 5, 0.1)\n",
    "plt.plot(d, chi2.pdf(d, df=1))\n",
    "plt.fill_between(d[d>D], chi2.pdf(d[d>D], df=1))\n",
    "plt.show()"
   ]
  },
  {
   "cell_type": "markdown",
   "metadata": {},
   "source": [
    "There is a pvalue chance that a result at least as distant from the theoretical distribution as our observation would have happened under H₀. With a common go-to α criterion of 5%, we have pvalue>α and H₀ cannot be rejected."
   ]
  },
  {
   "cell_type": "markdown",
   "metadata": {},
   "source": [
    "## Reference\n",
    "https://towardsdatascience.com/the-art-of-a-b-testing-5a10c9bb70a4\n",
    "\n",
    "https://towardsdatascience.com/a-b-testing-a-complete-guide-to-statistical-testing-e3f1db140499"
   ]
  },
  {
   "cell_type": "code",
   "execution_count": null,
   "metadata": {},
   "outputs": [],
   "source": []
  }
 ],
 "metadata": {
  "kernelspec": {
   "display_name": "Python 3",
   "language": "python",
   "name": "python3"
  },
  "language_info": {
   "codemirror_mode": {
    "name": "ipython",
    "version": 3
   },
   "file_extension": ".py",
   "mimetype": "text/x-python",
   "name": "python",
   "nbconvert_exporter": "python",
   "pygments_lexer": "ipython3",
   "version": "3.7.6"
  }
 },
 "nbformat": 4,
 "nbformat_minor": 4
}
